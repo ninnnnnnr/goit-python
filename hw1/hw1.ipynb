{
 "cells": [
  {
   "cell_type": "code",
   "execution_count": 1,
   "metadata": {},
   "outputs": [],
   "source": [
    "import numpy as np"
   ]
  },
  {
   "attachments": {},
   "cell_type": "markdown",
   "metadata": {},
   "source": [
    "Task 1\n",
    "    Вкладник поклав 50000 умовних одиниць на три різні рахунки в три різні банки. За першим рахунком виплати становитимуть 5% річних, по другому – 7% річних та по третьому 6% річних. Відомо, що через рік вкладник отримав за відсотками суму в 2250 у.о. з першого та другого банку та суму в 1400 у.о. з першого та третього банку. Скільки умовних одиниць він поклав на кожен рахунок спочатку?"
   ]
  },
  {
   "cell_type": "code",
   "execution_count": 2,
   "metadata": {},
   "outputs": [
    {
     "data": {
      "text/plain": [
       "matrix([[10000.],\n",
       "        [25000.],\n",
       "        [15000.]])"
      ]
     },
     "execution_count": 2,
     "metadata": {},
     "output_type": "execute_result"
    }
   ],
   "source": [
    "#Task 1\n",
    "a = np.matrix(\"1,1,1;0.05,0.07,0;0.05,0,0.06\")\n",
    "b = np.matrix(\"50000;2250;1400\")\n",
    "x = np.linalg.solve(a, b)\n",
    "x"
   ]
  },
  {
   "attachments": {},
   "cell_type": "markdown",
   "metadata": {},
   "source": [
    "Task 2\n",
    "    На складі зберігаються мобільні телефони iPhone 6, iPhone 11, iPhone 12 моделей. Всього 1328 екземплярів. Моделей iPhone 6 на 120 менше, ніж моделей iPhone 11, та на 100 більше, ніж моделей iPhone 12. Скільки моделей кожного виду на складі?"
   ]
  },
  {
   "cell_type": "code",
   "execution_count": 3,
   "metadata": {},
   "outputs": [
    {
     "data": {
      "text/plain": [
       "matrix([[436.],\n",
       "        [556.],\n",
       "        [336.]])"
      ]
     },
     "execution_count": 3,
     "metadata": {},
     "output_type": "execute_result"
    }
   ],
   "source": [
    "#Task 2\n",
    "a = np.matrix(\"1,1,1;-1,1,0;-1,0,1\")\n",
    "b = np.matrix(\"1328;120;-100\")\n",
    "x = np.linalg.solve(a, b)\n",
    "x"
   ]
  },
  {
   "attachments": {},
   "cell_type": "markdown",
   "metadata": {},
   "source": [
    "Task 3\n",
    "    Складіть канонічне рівняння еліпсоїда, що проходить через три точки A, B, C\n"
   ]
  },
  {
   "cell_type": "code",
   "execution_count": 10,
   "metadata": {},
   "outputs": [
    {
     "name": "stdout",
     "output_type": "stream",
     "text": [
      "(3.464101615137755, -3.464101615137755)\n",
      "(0.7071067811865475, -0.7071067811865475)\n",
      "(2.0, -2.0)\n"
     ]
    }
   ],
   "source": [
    "matrix = np.array([[3,0,3], [6,1/4,0],[1,1/3,1]])\n",
    "elipsoid=np.array([1,1,1])\n",
    "x = np.linalg.solve(matrix, elipsoid)\n",
    "\n",
    "a = (1/np.sqrt(x[0]), -1/np.sqrt(x[0]))\n",
    "b = (1/np.sqrt(x[1]), -1/np.sqrt(x[1]))\n",
    "c = (1/np.sqrt(x[2]), -1/np.sqrt(x[2]))\n",
    "\n",
    "print(a)\n",
    "print(b)\n",
    "print(c)\n"
   ]
  },
  {
   "attachments": {},
   "cell_type": "markdown",
   "metadata": {},
   "source": [
    "Task 4\n",
    "    Складіть рівняння параболи що проходить через задані три точки (1,12), (3,54), (-1,2).Необхідно знайти коефіцієнти рівняння a,b,c."
   ]
  },
  {
   "cell_type": "code",
   "execution_count": 13,
   "metadata": {},
   "outputs": [
    {
     "name": "stdout",
     "output_type": "stream",
     "text": [
      "Coefficients a=4, b=5, c=3\n"
     ]
    }
   ],
   "source": [
    "a = np.array([[1,1,1],[9,3,1],[1,-1,1]], np.float32)\n",
    "b = np.array([12,54,2], np.float32)\n",
    "x = np.linalg.solve(a, b)\n",
    "\n",
    "print(f'Coefficients a={int(x[0])}, b={int(x[1])}, c={int(x[2])}')"
   ]
  },
  {
   "attachments": {},
   "cell_type": "markdown",
   "metadata": {},
   "source": [
    "Task 5\n",
    "    Складіть функцію get_polynom, яка за набором точок буде знаходити коефіцієнти багаточлена."
   ]
  },
  {
   "cell_type": "code",
   "execution_count": 16,
   "metadata": {},
   "outputs": [
    {
     "data": {
      "text/plain": [
       "array([0., 1., 0.])"
      ]
     },
     "execution_count": 16,
     "metadata": {},
     "output_type": "execute_result"
    }
   ],
   "source": [
    "def get_polynom(coords):\n",
    "    b = np.array([])\n",
    "    items = []\n",
    "    for x, y in coords:\n",
    "        array = [x ** i for i in reversed(range(len(coords)))]\n",
    "        items.append(array)\n",
    "        b = np.append(b, y)\n",
    "    a = np.array(items)\n",
    "    return np.linalg.solve(a, b)\n",
    "\n",
    "get_polynom([(1, 1), (2, 2), (3, 3)])"
   ]
  }
 ],
 "metadata": {
  "kernelspec": {
   "display_name": "venv",
   "language": "python",
   "name": "python3"
  },
  "language_info": {
   "codemirror_mode": {
    "name": "ipython",
    "version": 3
   },
   "file_extension": ".py",
   "mimetype": "text/x-python",
   "name": "python",
   "nbconvert_exporter": "python",
   "pygments_lexer": "ipython3",
   "version": "3.10.6"
  },
  "orig_nbformat": 4,
  "vscode": {
   "interpreter": {
    "hash": "015df0c7392d70423a41fb1dad33c8105d05bae06ff119edc6c0d8006ffb726c"
   }
  }
 },
 "nbformat": 4,
 "nbformat_minor": 2
}
