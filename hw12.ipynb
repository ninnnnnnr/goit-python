{
 "cells": [
  {
   "cell_type": "code",
   "execution_count": 5,
   "metadata": {},
   "outputs": [],
   "source": [
    "import keras\n",
    "import matplotlib.pyplot as plt\n",
    "import numpy as np\n",
    "import pandas as pd \n",
    "import tensorflow as tf\n",
    "from keras import models\n",
    "from keras.layers import Dense, Dropout, Flatten, Conv2D, MaxPooling2D\n",
    "from keras.models import Sequential\n",
    "from tensorflow.keras import Model, layers\n",
    "from sklearn.model_selection import train_test_split\n",
    "from sklearn import  metrics\n",
    "from keras.applications.vgg16 import VGG16\n",
    "from keras import optimizers\n",
    "from tensorflow.keras.datasets import fashion_mnist\n",
    "from keras.utils import np_utils"
   ]
  },
  {
   "cell_type": "code",
   "execution_count": 6,
   "metadata": {},
   "outputs": [],
   "source": [
    "(x_train, y_train), (x_test, y_test) = fashion_mnist.load_data()"
   ]
  },
  {
   "cell_type": "code",
   "execution_count": 7,
   "metadata": {},
   "outputs": [],
   "source": [
    "x_train=tf.image.grayscale_to_rgb(tf.expand_dims(x_train, axis=3)) \n",
    "x_test=tf.image.grayscale_to_rgb(tf.expand_dims(x_test, axis=3))"
   ]
  },
  {
   "cell_type": "code",
   "execution_count": 8,
   "metadata": {},
   "outputs": [],
   "source": [
    "x_train=tf.image.resize_with_pad(x_train,48,48)\n",
    "x_test=tf.image.resize_with_pad(x_test,48,48)\n",
    "\n",
    "x_train /= 255\n",
    "x_test  /= 255"
   ]
  },
  {
   "cell_type": "code",
   "execution_count": 9,
   "metadata": {},
   "outputs": [],
   "source": [
    "input_shape = (48, 48, 3)\n",
    "batch_size = 16\n",
    "num_classes = 10\n",
    "epochs = 5 \n",
    "\n",
    "y_train = keras.utils.np_utils.to_categorical(y_train, num_classes)\n",
    "y_test = keras.utils.np_utils.to_categorical(y_test, num_classes)"
   ]
  },
  {
   "cell_type": "code",
   "execution_count": 10,
   "metadata": {},
   "outputs": [
    {
     "name": "stdout",
     "output_type": "stream",
     "text": [
      "Downloading data from https://storage.googleapis.com/tensorflow/keras-applications/vgg16/vgg16_weights_tf_dim_ordering_tf_kernels_notop.h5\n",
      "58889256/58889256 [==============================] - 4s 0us/step\n"
     ]
    }
   ],
   "source": [
    "conv_base = VGG16(weights=\"imagenet\", include_top=False, input_shape = input_shape)\n",
    "conv_base.trainable = False"
   ]
  },
  {
   "cell_type": "code",
   "execution_count": 11,
   "metadata": {},
   "outputs": [],
   "source": [
    "model = models.Sequential([\n",
    "   conv_base,\n",
    "   layers.Flatten(),\n",
    "   layers.Dense(128, activation=\"relu\"),\n",
    "   layers.Dropout(0.5),\n",
    "   layers.Dense(num_classes, activation='softmax'),\n",
    "])\n",
    "\n",
    "model.compile(\n",
    "    loss=\"categorical_crossentropy\",\n",
    "    optimizer=tf.keras.optimizers.Adam(),\n",
    "    metrics=[\"accuracy\"]\n",
    ")"
   ]
  },
  {
   "cell_type": "code",
   "execution_count": 12,
   "metadata": {},
   "outputs": [
    {
     "name": "stdout",
     "output_type": "stream",
     "text": [
      "Epoch 1/5\n",
      "3750/3750 [==============================] - 1224s 326ms/step - loss: 0.6030 - accuracy: 0.7884 - val_loss: 0.4260 - val_accuracy: 0.8430\n",
      "Epoch 2/5\n",
      "3750/3750 [==============================] - 1248s 333ms/step - loss: 0.4580 - accuracy: 0.8340 - val_loss: 0.4037 - val_accuracy: 0.8506\n",
      "Epoch 3/5\n",
      "3750/3750 [==============================] - 1222s 326ms/step - loss: 0.4263 - accuracy: 0.8450 - val_loss: 0.3853 - val_accuracy: 0.8571\n",
      "Epoch 4/5\n",
      "3750/3750 [==============================] - 1199s 320ms/step - loss: 0.4109 - accuracy: 0.8502 - val_loss: 0.3731 - val_accuracy: 0.8661\n",
      "Epoch 5/5\n",
      "3750/3750 [==============================] - 1177s 314ms/step - loss: 0.3981 - accuracy: 0.8552 - val_loss: 0.3757 - val_accuracy: 0.8636\n"
     ]
    }
   ],
   "source": [
    "history = model.fit(x_train, y_train, batch_size=batch_size, \n",
    "                    epochs=epochs, verbose=1, validation_data=(x_test, y_test))\n",
    "accuracy = model.evaluate(x_test, y_test, verbose=0)"
   ]
  },
  {
   "cell_type": "code",
   "execution_count": 13,
   "metadata": {},
   "outputs": [
    {
     "name": "stdout",
     "output_type": "stream",
     "text": [
      "Model: \"vgg16\"\n",
      "_________________________________________________________________\n",
      " Layer (type)                Output Shape              Param #   \n",
      "=================================================================\n",
      " input_1 (InputLayer)        [(None, 48, 48, 3)]       0         \n",
      "                                                                 \n",
      " block1_conv1 (Conv2D)       (None, 48, 48, 64)        1792      \n",
      "                                                                 \n",
      " block1_conv2 (Conv2D)       (None, 48, 48, 64)        36928     \n",
      "                                                                 \n",
      " block1_pool (MaxPooling2D)  (None, 24, 24, 64)        0         \n",
      "                                                                 \n",
      " block2_conv1 (Conv2D)       (None, 24, 24, 128)       73856     \n",
      "                                                                 \n",
      " block2_conv2 (Conv2D)       (None, 24, 24, 128)       147584    \n",
      "                                                                 \n",
      " block2_pool (MaxPooling2D)  (None, 12, 12, 128)       0         \n",
      "                                                                 \n",
      " block3_conv1 (Conv2D)       (None, 12, 12, 256)       295168    \n",
      "                                                                 \n",
      " block3_conv2 (Conv2D)       (None, 12, 12, 256)       590080    \n",
      "                                                                 \n",
      " block3_conv3 (Conv2D)       (None, 12, 12, 256)       590080    \n",
      "                                                                 \n",
      " block3_pool (MaxPooling2D)  (None, 6, 6, 256)         0         \n",
      "                                                                 \n",
      " block4_conv1 (Conv2D)       (None, 6, 6, 512)         1180160   \n",
      "                                                                 \n",
      " block4_conv2 (Conv2D)       (None, 6, 6, 512)         2359808   \n",
      "                                                                 \n",
      " block4_conv3 (Conv2D)       (None, 6, 6, 512)         2359808   \n",
      "                                                                 \n",
      " block4_pool (MaxPooling2D)  (None, 3, 3, 512)         0         \n",
      "                                                                 \n",
      " block5_conv1 (Conv2D)       (None, 3, 3, 512)         2359808   \n",
      "                                                                 \n",
      " block5_conv2 (Conv2D)       (None, 3, 3, 512)         2359808   \n",
      "                                                                 \n",
      " block5_conv3 (Conv2D)       (None, 3, 3, 512)         2359808   \n",
      "                                                                 \n",
      " block5_pool (MaxPooling2D)  (None, 1, 1, 512)         0         \n",
      "                                                                 \n",
      "=================================================================\n",
      "Total params: 14,714,688\n",
      "Trainable params: 0\n",
      "Non-trainable params: 14,714,688\n",
      "_________________________________________________________________\n"
     ]
    }
   ],
   "source": [
    "conv_base.summary()"
   ]
  },
  {
   "cell_type": "code",
   "execution_count": 14,
   "metadata": {},
   "outputs": [],
   "source": [
    "conv_base = VGG16(weights=\"imagenet\", include_top=False, input_shape = input_shape)\n",
    "\n",
    "conv_base.trainable = True\n",
    "set_trainable = False\n",
    "for layer in conv_base.layers:\n",
    "    if layer.name == \"block5_conv1\":\n",
    "        set_trainable = True\n",
    "    if set_trainable:\n",
    "        layer.trainable = True\n",
    "    else:\n",
    "        layer.trainable = False\n",
    "\n",
    "modified_model_vgg16 = models.Sequential([\n",
    "   conv_base,\n",
    "   layers.Flatten(),\n",
    "   layers.Dense(256, activation=\"relu\"),\n",
    "   layers.Dropout(0.5),\n",
    "   layers.Dense(num_classes, activation='softmax'),\n",
    "])\n",
    "\n",
    "modified_model_vgg16.compile(\n",
    "    loss=\"categorical_crossentropy\",\n",
    "    optimizer=tf.keras.optimizers.Adam(),\n",
    "    metrics=[\"accuracy\"]\n",
    ")"
   ]
  },
  {
   "cell_type": "code",
   "execution_count": 16,
   "metadata": {},
   "outputs": [
    {
     "name": "stdout",
     "output_type": "stream",
     "text": [
      "Epoch 1/30\n",
      "50/50 [==============================] - 72s 1s/step - loss: 0.5081 - accuracy: 0.8313 - val_loss: 0.3862 - val_accuracy: 0.8650\n",
      "Epoch 2/30\n",
      "50/50 [==============================] - 74s 1s/step - loss: 0.4097 - accuracy: 0.8700 - val_loss: 0.3515 - val_accuracy: 0.8737\n",
      "Epoch 3/30\n",
      "50/50 [==============================] - 88s 2s/step - loss: 0.4431 - accuracy: 0.8481 - val_loss: 0.3859 - val_accuracy: 0.8644\n",
      "Epoch 4/30\n",
      "50/50 [==============================] - 91s 2s/step - loss: 0.4140 - accuracy: 0.8694 - val_loss: 0.3589 - val_accuracy: 0.8606\n",
      "Epoch 5/30\n",
      "50/50 [==============================] - 74s 1s/step - loss: 0.3771 - accuracy: 0.8838 - val_loss: 0.3554 - val_accuracy: 0.8725\n",
      "Epoch 6/30\n",
      "50/50 [==============================] - 73s 1s/step - loss: 0.4121 - accuracy: 0.8650 - val_loss: 0.4202 - val_accuracy: 0.8438\n",
      "Epoch 7/30\n",
      "50/50 [==============================] - 73s 1s/step - loss: 0.3810 - accuracy: 0.8675 - val_loss: 0.3770 - val_accuracy: 0.8644\n",
      "Epoch 8/30\n",
      "50/50 [==============================] - 74s 1s/step - loss: 0.3869 - accuracy: 0.8669 - val_loss: 0.3221 - val_accuracy: 0.8813\n",
      "Epoch 9/30\n",
      "50/50 [==============================] - 74s 1s/step - loss: 0.3559 - accuracy: 0.8706 - val_loss: 0.3444 - val_accuracy: 0.8731\n",
      "Epoch 10/30\n",
      "50/50 [==============================] - 75s 2s/step - loss: 0.3776 - accuracy: 0.8750 - val_loss: 0.3373 - val_accuracy: 0.8687\n",
      "Epoch 11/30\n",
      "50/50 [==============================] - 74s 1s/step - loss: 0.3310 - accuracy: 0.8863 - val_loss: 0.2964 - val_accuracy: 0.8913\n",
      "Epoch 12/30\n",
      "50/50 [==============================] - 73s 1s/step - loss: 0.3598 - accuracy: 0.8869 - val_loss: 0.3462 - val_accuracy: 0.8712\n",
      "Epoch 13/30\n",
      "50/50 [==============================] - 73s 1s/step - loss: 0.3249 - accuracy: 0.8863 - val_loss: 0.3081 - val_accuracy: 0.8813\n",
      "Epoch 14/30\n",
      "50/50 [==============================] - 73s 1s/step - loss: 0.3362 - accuracy: 0.8950 - val_loss: 0.3306 - val_accuracy: 0.8750\n",
      "Epoch 15/30\n",
      "50/50 [==============================] - 79s 2s/step - loss: 0.3216 - accuracy: 0.8931 - val_loss: 0.3270 - val_accuracy: 0.8806\n",
      "Epoch 16/30\n",
      "50/50 [==============================] - 97s 2s/step - loss: 0.3304 - accuracy: 0.8944 - val_loss: 0.3120 - val_accuracy: 0.8869\n",
      "Epoch 17/30\n",
      "50/50 [==============================] - 73s 1s/step - loss: 0.3830 - accuracy: 0.8744 - val_loss: 0.3196 - val_accuracy: 0.8813\n",
      "Epoch 18/30\n",
      "50/50 [==============================] - 74s 1s/step - loss: 0.3519 - accuracy: 0.8806 - val_loss: 0.2905 - val_accuracy: 0.8975\n",
      "Epoch 19/30\n",
      "50/50 [==============================] - 73s 1s/step - loss: 0.2986 - accuracy: 0.8975 - val_loss: 0.2847 - val_accuracy: 0.8919\n",
      "Epoch 20/30\n",
      "50/50 [==============================] - 72s 1s/step - loss: 0.3166 - accuracy: 0.8900 - val_loss: 0.2863 - val_accuracy: 0.9019\n",
      "Epoch 21/30\n",
      "50/50 [==============================] - 73s 1s/step - loss: 0.3287 - accuracy: 0.8856 - val_loss: 0.2885 - val_accuracy: 0.8994\n",
      "Epoch 22/30\n",
      "50/50 [==============================] - 73s 1s/step - loss: 0.3371 - accuracy: 0.8906 - val_loss: 0.3062 - val_accuracy: 0.8863\n",
      "Epoch 23/30\n",
      "50/50 [==============================] - 73s 1s/step - loss: 0.3327 - accuracy: 0.8813 - val_loss: 0.3233 - val_accuracy: 0.8769\n",
      "Epoch 24/30\n",
      "50/50 [==============================] - 73s 1s/step - loss: 0.3384 - accuracy: 0.8875 - val_loss: 0.3531 - val_accuracy: 0.8813\n",
      "Epoch 25/30\n",
      "50/50 [==============================] - 74s 1s/step - loss: 0.3067 - accuracy: 0.8994 - val_loss: 0.3003 - val_accuracy: 0.8863\n",
      "Epoch 26/30\n",
      "50/50 [==============================] - 88s 2s/step - loss: 0.3000 - accuracy: 0.8944 - val_loss: 0.2917 - val_accuracy: 0.9062\n",
      "Epoch 27/30\n",
      "50/50 [==============================] - 89s 2s/step - loss: 0.2756 - accuracy: 0.9100 - val_loss: 0.3194 - val_accuracy: 0.8894\n",
      "Epoch 28/30\n",
      "50/50 [==============================] - 83s 2s/step - loss: 0.2962 - accuracy: 0.8963 - val_loss: 0.2762 - val_accuracy: 0.9019\n",
      "Epoch 29/30\n",
      "50/50 [==============================] - 73s 1s/step - loss: 0.2951 - accuracy: 0.9038 - val_loss: 0.3371 - val_accuracy: 0.8881\n",
      "Epoch 30/30\n",
      "50/50 [==============================] - 73s 1s/step - loss: 0.3322 - accuracy: 0.8925 - val_loss: 0.3006 - val_accuracy: 0.8969\n"
     ]
    }
   ],
   "source": [
    "history = modified_model_vgg16.fit(x_train, y_train, batch_size=32, steps_per_epoch=50,\n",
    "                                    epochs=30, verbose=1, validation_data=(x_test, y_test), validation_steps=50)"
   ]
  },
  {
   "cell_type": "code",
   "execution_count": 17,
   "metadata": {},
   "outputs": [
    {
     "name": "stdout",
     "output_type": "stream",
     "text": [
      "Accuracy: 0.8925999999046326\n"
     ]
    }
   ],
   "source": [
    "accuracy = modified_model_vgg16.evaluate(x_test, y_test, verbose=0)\n",
    "\n",
    "print(f'Accuracy:', accuracy[1])"
   ]
  }
 ],
 "metadata": {
  "kernelspec": {
   "display_name": ".venv",
   "language": "python",
   "name": "python3"
  },
  "language_info": {
   "codemirror_mode": {
    "name": "ipython",
    "version": 3
   },
   "file_extension": ".py",
   "mimetype": "text/x-python",
   "name": "python",
   "nbconvert_exporter": "python",
   "pygments_lexer": "ipython3",
   "version": "3.10.6"
  },
  "orig_nbformat": 4
 },
 "nbformat": 4,
 "nbformat_minor": 2
}
