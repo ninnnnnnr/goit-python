{
 "cells": [
  {
   "cell_type": "code",
   "execution_count": 1,
   "metadata": {},
   "outputs": [
    {
     "name": "stderr",
     "output_type": "stream",
     "text": [
      "2023-05-14 13:19:06.367914: I tensorflow/tsl/cuda/cudart_stub.cc:28] Could not find cuda drivers on your machine, GPU will not be used.\n",
      "2023-05-14 13:19:06.502618: I tensorflow/tsl/cuda/cudart_stub.cc:28] Could not find cuda drivers on your machine, GPU will not be used.\n",
      "2023-05-14 13:19:06.503355: I tensorflow/core/platform/cpu_feature_guard.cc:182] This TensorFlow binary is optimized to use available CPU instructions in performance-critical operations.\n",
      "To enable the following instructions: AVX2 FMA, in other operations, rebuild TensorFlow with the appropriate compiler flags.\n",
      "2023-05-14 13:19:07.872795: W tensorflow/compiler/tf2tensorrt/utils/py_utils.cc:38] TF-TRT Warning: Could not find TensorRT\n"
     ]
    }
   ],
   "source": [
    "from tensorflow import keras\n",
    "from keras.models import Sequential\n",
    "from keras.layers import Dense, Flatten, Conv2D, MaxPooling2D, Dropout\n",
    "from keras import optimizers\n",
    "from keras import losses\n",
    "from keras import metrics\n",
    "import tensorflow as tf\n",
    "import numpy as np"
   ]
  },
  {
   "cell_type": "code",
   "execution_count": 2,
   "metadata": {},
   "outputs": [],
   "source": [
    "fashion_mnist = keras.datasets.fashion_mnist\n",
    "\n",
    "(x_train, y_train), (x_test, y_test) = fashion_mnist.load_data()\n",
    "\n",
    "x_train, x_test = x_train / 255., x_test / 255."
   ]
  },
  {
   "cell_type": "code",
   "execution_count": 3,
   "metadata": {},
   "outputs": [],
   "source": [
    "model = Sequential([\n",
    "    Conv2D(64, (3, 3), activation=\"relu\", input_shape=(28, 28, 1)),\n",
    "    MaxPooling2D((2, 2)),\n",
    "    Conv2D(64, (3, 3), activation=\"relu\"),\n",
    "    MaxPooling2D((2, 2)),\n",
    "    Conv2D(64, (3, 3), activation=\"relu\"),\n",
    "    Flatten(),\n",
    "    Dropout(0.5),\n",
    "    Dense(64, activation=\"relu\"),\n",
    "    Dense(10, activation=\"softmax\")\n",
    "])"
   ]
  },
  {
   "cell_type": "code",
   "execution_count": 4,
   "metadata": {},
   "outputs": [],
   "source": [
    "model.compile(\n",
    "    optimizer='adam',\n",
    "    loss='sparse_categorical_crossentropy',\n",
    "    metrics=['accuracy']\n",
    ")"
   ]
  },
  {
   "cell_type": "code",
   "execution_count": 5,
   "metadata": {},
   "outputs": [
    {
     "name": "stdout",
     "output_type": "stream",
     "text": [
      "Epoch 1/20\n"
     ]
    },
    {
     "name": "stderr",
     "output_type": "stream",
     "text": [
      "2023-05-14 13:25:37.544085: W tensorflow/tsl/framework/cpu_allocator_impl.cc:83] Allocation of 156800000 exceeds 10% of free system memory.\n",
      "2023-05-14 13:25:39.486968: W tensorflow/tsl/framework/cpu_allocator_impl.cc:83] Allocation of 44302336 exceeds 10% of free system memory.\n",
      "2023-05-14 13:25:39.639867: W tensorflow/tsl/framework/cpu_allocator_impl.cc:83] Allocation of 19236096 exceeds 10% of free system memory.\n",
      "2023-05-14 13:25:39.640734: W tensorflow/tsl/framework/cpu_allocator_impl.cc:83] Allocation of 19236096 exceeds 10% of free system memory.\n"
     ]
    },
    {
     "name": "stdout",
     "output_type": "stream",
     "text": [
      "  1/196 [..............................] - ETA: 6:29 - loss: 2.3113 - accuracy: 0.0742"
     ]
    },
    {
     "name": "stderr",
     "output_type": "stream",
     "text": [
      "2023-05-14 13:25:39.708618: W tensorflow/tsl/framework/cpu_allocator_impl.cc:83] Allocation of 22151168 exceeds 10% of free system memory.\n"
     ]
    },
    {
     "name": "stdout",
     "output_type": "stream",
     "text": [
      "196/196 [==============================] - 59s 291ms/step - loss: 0.8177 - accuracy: 0.6971 - val_loss: 0.4861 - val_accuracy: 0.8221\n",
      "Epoch 2/20\n",
      "196/196 [==============================] - 55s 283ms/step - loss: 0.4836 - accuracy: 0.8200 - val_loss: 0.4034 - val_accuracy: 0.8526\n",
      "Epoch 3/20\n",
      "196/196 [==============================] - 61s 309ms/step - loss: 0.4214 - accuracy: 0.8461 - val_loss: 0.3614 - val_accuracy: 0.8671\n",
      "Epoch 4/20\n",
      "196/196 [==============================] - 54s 276ms/step - loss: 0.3842 - accuracy: 0.8608 - val_loss: 0.3294 - val_accuracy: 0.8809\n",
      "Epoch 5/20\n",
      "196/196 [==============================] - 54s 276ms/step - loss: 0.3574 - accuracy: 0.8690 - val_loss: 0.3093 - val_accuracy: 0.8880\n",
      "Epoch 6/20\n",
      "196/196 [==============================] - 55s 283ms/step - loss: 0.3403 - accuracy: 0.8753 - val_loss: 0.3092 - val_accuracy: 0.8862\n",
      "Epoch 7/20\n",
      "196/196 [==============================] - 60s 305ms/step - loss: 0.3236 - accuracy: 0.8808 - val_loss: 0.2891 - val_accuracy: 0.8941\n",
      "Epoch 8/20\n",
      "196/196 [==============================] - 77s 393ms/step - loss: 0.3108 - accuracy: 0.8852 - val_loss: 0.2803 - val_accuracy: 0.8945\n",
      "Epoch 9/20\n",
      "196/196 [==============================] - 67s 339ms/step - loss: 0.3001 - accuracy: 0.8891 - val_loss: 0.2689 - val_accuracy: 0.9000\n",
      "Epoch 10/20\n",
      "196/196 [==============================] - 86s 438ms/step - loss: 0.2849 - accuracy: 0.8956 - val_loss: 0.2547 - val_accuracy: 0.9066\n",
      "Epoch 11/20\n",
      "196/196 [==============================] - 77s 394ms/step - loss: 0.2782 - accuracy: 0.8963 - val_loss: 0.2551 - val_accuracy: 0.9039\n",
      "Epoch 12/20\n",
      "196/196 [==============================] - 74s 375ms/step - loss: 0.2717 - accuracy: 0.9008 - val_loss: 0.2500 - val_accuracy: 0.9069\n",
      "Epoch 13/20\n",
      "196/196 [==============================] - 86s 439ms/step - loss: 0.2642 - accuracy: 0.9024 - val_loss: 0.2458 - val_accuracy: 0.9087\n",
      "Epoch 14/20\n",
      "196/196 [==============================] - 68s 347ms/step - loss: 0.2560 - accuracy: 0.9054 - val_loss: 0.2408 - val_accuracy: 0.9112\n",
      "Epoch 15/20\n",
      "196/196 [==============================] - 59s 300ms/step - loss: 0.2485 - accuracy: 0.9095 - val_loss: 0.2352 - val_accuracy: 0.9136\n",
      "Epoch 16/20\n",
      "196/196 [==============================] - 69s 354ms/step - loss: 0.2414 - accuracy: 0.9109 - val_loss: 0.2277 - val_accuracy: 0.9133\n",
      "Epoch 17/20\n",
      "196/196 [==============================] - 80s 410ms/step - loss: 0.2400 - accuracy: 0.9108 - val_loss: 0.2418 - val_accuracy: 0.9088\n",
      "Epoch 18/20\n",
      "196/196 [==============================] - 74s 375ms/step - loss: 0.2356 - accuracy: 0.9138 - val_loss: 0.2405 - val_accuracy: 0.9092\n",
      "Epoch 19/20\n",
      "196/196 [==============================] - 56s 284ms/step - loss: 0.2303 - accuracy: 0.9145 - val_loss: 0.2486 - val_accuracy: 0.9039\n",
      "Epoch 20/20\n",
      "196/196 [==============================] - 65s 332ms/step - loss: 0.2217 - accuracy: 0.9182 - val_loss: 0.2321 - val_accuracy: 0.9116\n"
     ]
    }
   ],
   "source": [
    "x_val = x_train[:10000]\n",
    "partial_x_train = x_train[10000:]\n",
    "\n",
    "y_val = y_train[:10000]\n",
    "partial_y_train = y_train[10000:]\n",
    "\n",
    "history = model.fit(\n",
    "    partial_x_train,\n",
    "    partial_y_train,\n",
    "    epochs=20,\n",
    "    batch_size=256,\n",
    "    validation_data=(x_val, y_val)\n",
    ")"
   ]
  },
  {
   "cell_type": "code",
   "execution_count": 6,
   "metadata": {},
   "outputs": [
    {
     "name": "stdout",
     "output_type": "stream",
     "text": [
      "313/313 - 4s - loss: 0.2517 - accuracy: 0.9075 - 4s/epoch - 12ms/step\n"
     ]
    }
   ],
   "source": [
    "test_loss, test_acc = model.evaluate(x_test, y_test, verbose=2)"
   ]
  }
 ],
 "metadata": {
  "kernelspec": {
   "display_name": ".venv",
   "language": "python",
   "name": "python3"
  },
  "language_info": {
   "codemirror_mode": {
    "name": "ipython",
    "version": 3
   },
   "file_extension": ".py",
   "mimetype": "text/x-python",
   "name": "python",
   "nbconvert_exporter": "python",
   "pygments_lexer": "ipython3",
   "version": "3.10.6"
  },
  "orig_nbformat": 4
 },
 "nbformat": 4,
 "nbformat_minor": 2
}
