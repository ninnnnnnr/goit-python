{
 "cells": [
  {
   "cell_type": "code",
   "execution_count": 1,
   "metadata": {},
   "outputs": [
    {
     "name": "stderr",
     "output_type": "stream",
     "text": [
      "2023-05-14 12:26:44.054085: I tensorflow/tsl/cuda/cudart_stub.cc:28] Could not find cuda drivers on your machine, GPU will not be used.\n",
      "2023-05-14 12:26:44.190124: I tensorflow/tsl/cuda/cudart_stub.cc:28] Could not find cuda drivers on your machine, GPU will not be used.\n",
      "2023-05-14 12:26:44.194830: I tensorflow/core/platform/cpu_feature_guard.cc:182] This TensorFlow binary is optimized to use available CPU instructions in performance-critical operations.\n",
      "To enable the following instructions: AVX2 FMA, in other operations, rebuild TensorFlow with the appropriate compiler flags.\n",
      "2023-05-14 12:26:45.613345: W tensorflow/compiler/tf2tensorrt/utils/py_utils.cc:38] TF-TRT Warning: Could not find TensorRT\n"
     ]
    }
   ],
   "source": [
    "import numpy as np\n",
    "import pandas as pd\n",
    "import matplotlib.pyplot as plt\n",
    "\n",
    "import tensorflow as tf\n",
    "from tensorflow import keras\n",
    "\n",
    "from keras.models import Sequential\n",
    "from keras.layers import Dense, Flatten\n",
    "from keras import optimizers\n",
    "from keras import losses\n",
    "from keras import metrics\n",
    "from keras import regularizers\n",
    "from keras import Model\n",
    "from keras import layers"
   ]
  },
  {
   "cell_type": "code",
   "execution_count": 2,
   "metadata": {},
   "outputs": [
    {
     "name": "stdout",
     "output_type": "stream",
     "text": [
      "Downloading data from https://storage.googleapis.com/tensorflow/tf-keras-datasets/train-labels-idx1-ubyte.gz\n",
      "29515/29515 [==============================] - 0s 3us/step\n",
      "Downloading data from https://storage.googleapis.com/tensorflow/tf-keras-datasets/train-images-idx3-ubyte.gz\n",
      "26421880/26421880 [==============================] - 11s 0us/step\n",
      "Downloading data from https://storage.googleapis.com/tensorflow/tf-keras-datasets/t10k-labels-idx1-ubyte.gz\n",
      "5148/5148 [==============================] - 0s 0us/step\n",
      "Downloading data from https://storage.googleapis.com/tensorflow/tf-keras-datasets/t10k-images-idx3-ubyte.gz\n",
      "4422102/4422102 [==============================] - 8s 2us/step\n"
     ]
    }
   ],
   "source": [
    "from keras.datasets import fashion_mnist\n",
    "\n",
    "(X_train, y_train), (X_test, y_test) = fashion_mnist.load_data()"
   ]
  },
  {
   "cell_type": "code",
   "execution_count": 3,
   "metadata": {},
   "outputs": [],
   "source": [
    "X_train, X_test = X_train / 255., X_test / 255."
   ]
  },
  {
   "cell_type": "code",
   "execution_count": 65,
   "metadata": {},
   "outputs": [],
   "source": [
    "model = Sequential([\n",
    "    Flatten(input_shape=(28, 28)),\n",
    "    #Dense(784, activation='relu'),\n",
    "    Dense(256, activation='relu'),\n",
    "    #Dense(1024, activation='sigmoid'),\n",
    "    Dense(10, activation='softmax'),\n",
    "])"
   ]
  },
  {
   "cell_type": "code",
   "execution_count": 66,
   "metadata": {},
   "outputs": [],
   "source": [
    "model.compile(\n",
    "    optimizer='adam',\n",
    "    loss='sparse_categorical_crossentropy',\n",
    "    metrics=['accuracy']\n",
    ")"
   ]
  },
  {
   "cell_type": "code",
   "execution_count": 67,
   "metadata": {},
   "outputs": [
    {
     "name": "stdout",
     "output_type": "stream",
     "text": [
      "Epoch 1/30\n",
      "77/77 [==============================] - 3s 23ms/step - loss: 0.6845 - accuracy: 0.7692 - val_loss: 0.4834 - val_accuracy: 0.8388\n",
      "Epoch 2/30\n",
      "77/77 [==============================] - 1s 17ms/step - loss: 0.4629 - accuracy: 0.8401 - val_loss: 0.4224 - val_accuracy: 0.8563\n",
      "Epoch 3/30\n",
      "77/77 [==============================] - 1s 19ms/step - loss: 0.4122 - accuracy: 0.8569 - val_loss: 0.3899 - val_accuracy: 0.8661\n",
      "Epoch 4/30\n",
      "77/77 [==============================] - 2s 21ms/step - loss: 0.3869 - accuracy: 0.8659 - val_loss: 0.3755 - val_accuracy: 0.8679\n",
      "Epoch 5/30\n",
      "77/77 [==============================] - 1s 17ms/step - loss: 0.3627 - accuracy: 0.8730 - val_loss: 0.3471 - val_accuracy: 0.8791\n",
      "Epoch 6/30\n",
      "77/77 [==============================] - 1s 18ms/step - loss: 0.3443 - accuracy: 0.8786 - val_loss: 0.3282 - val_accuracy: 0.8834\n",
      "Epoch 7/30\n",
      "77/77 [==============================] - 2s 20ms/step - loss: 0.3328 - accuracy: 0.8818 - val_loss: 0.3321 - val_accuracy: 0.8786\n",
      "Epoch 8/30\n",
      "77/77 [==============================] - 1s 19ms/step - loss: 0.3260 - accuracy: 0.8838 - val_loss: 0.3090 - val_accuracy: 0.8896\n",
      "Epoch 9/30\n",
      "77/77 [==============================] - 2s 20ms/step - loss: 0.3142 - accuracy: 0.8886 - val_loss: 0.3075 - val_accuracy: 0.8885\n",
      "Epoch 10/30\n",
      "77/77 [==============================] - 1s 18ms/step - loss: 0.3059 - accuracy: 0.8903 - val_loss: 0.2963 - val_accuracy: 0.8941\n",
      "Epoch 11/30\n",
      "77/77 [==============================] - 1s 18ms/step - loss: 0.2923 - accuracy: 0.8947 - val_loss: 0.2762 - val_accuracy: 0.9027\n",
      "Epoch 12/30\n",
      "77/77 [==============================] - 2s 22ms/step - loss: 0.2864 - accuracy: 0.8975 - val_loss: 0.2660 - val_accuracy: 0.9051\n",
      "Epoch 13/30\n",
      "77/77 [==============================] - 1s 19ms/step - loss: 0.2774 - accuracy: 0.9013 - val_loss: 0.2621 - val_accuracy: 0.9067\n",
      "Epoch 14/30\n",
      "77/77 [==============================] - 1s 17ms/step - loss: 0.2738 - accuracy: 0.9006 - val_loss: 0.2610 - val_accuracy: 0.9051\n",
      "Epoch 15/30\n",
      "77/77 [==============================] - 2s 21ms/step - loss: 0.2678 - accuracy: 0.9046 - val_loss: 0.2629 - val_accuracy: 0.9039\n",
      "Epoch 16/30\n",
      "77/77 [==============================] - 1s 18ms/step - loss: 0.2602 - accuracy: 0.9060 - val_loss: 0.2454 - val_accuracy: 0.9120\n",
      "Epoch 17/30\n",
      "77/77 [==============================] - 2s 22ms/step - loss: 0.2563 - accuracy: 0.9079 - val_loss: 0.2412 - val_accuracy: 0.9133\n",
      "Epoch 18/30\n",
      "77/77 [==============================] - 2s 23ms/step - loss: 0.2518 - accuracy: 0.9098 - val_loss: 0.2396 - val_accuracy: 0.9108\n",
      "Epoch 19/30\n",
      "77/77 [==============================] - 1s 17ms/step - loss: 0.2479 - accuracy: 0.9113 - val_loss: 0.2325 - val_accuracy: 0.9174\n",
      "Epoch 20/30\n",
      "77/77 [==============================] - 1s 19ms/step - loss: 0.2474 - accuracy: 0.9103 - val_loss: 0.2396 - val_accuracy: 0.9103\n",
      "Epoch 21/30\n",
      "77/77 [==============================] - 1s 17ms/step - loss: 0.2366 - accuracy: 0.9146 - val_loss: 0.2202 - val_accuracy: 0.9226\n",
      "Epoch 22/30\n",
      "77/77 [==============================] - 1s 17ms/step - loss: 0.2296 - accuracy: 0.9178 - val_loss: 0.2255 - val_accuracy: 0.9191\n",
      "Epoch 23/30\n",
      "77/77 [==============================] - 1s 18ms/step - loss: 0.2264 - accuracy: 0.9197 - val_loss: 0.2199 - val_accuracy: 0.9191\n",
      "Epoch 24/30\n",
      "77/77 [==============================] - 2s 20ms/step - loss: 0.2233 - accuracy: 0.9201 - val_loss: 0.2143 - val_accuracy: 0.9232\n",
      "Epoch 25/30\n",
      "77/77 [==============================] - 1s 17ms/step - loss: 0.2226 - accuracy: 0.9201 - val_loss: 0.2074 - val_accuracy: 0.9253\n",
      "Epoch 26/30\n",
      "77/77 [==============================] - 1s 18ms/step - loss: 0.2174 - accuracy: 0.9216 - val_loss: 0.2175 - val_accuracy: 0.9193\n",
      "Epoch 27/30\n",
      "77/77 [==============================] - 2s 24ms/step - loss: 0.2101 - accuracy: 0.9238 - val_loss: 0.2026 - val_accuracy: 0.9279\n",
      "Epoch 28/30\n",
      "77/77 [==============================] - 2s 23ms/step - loss: 0.2076 - accuracy: 0.9257 - val_loss: 0.2002 - val_accuracy: 0.9282\n",
      "Epoch 29/30\n",
      "77/77 [==============================] - 2s 22ms/step - loss: 0.2053 - accuracy: 0.9264 - val_loss: 0.1922 - val_accuracy: 0.9320\n",
      "Epoch 30/30\n",
      "77/77 [==============================] - 1s 18ms/step - loss: 0.1989 - accuracy: 0.9288 - val_loss: 0.1977 - val_accuracy: 0.9292\n"
     ]
    }
   ],
   "source": [
    "x_val = X_train[:10000]\n",
    "partial_x_train = X_train[10000:]\n",
    "\n",
    "y_val = y_train[:10000]\n",
    "partial_y_train = y_train[10000:]\n",
    "\n",
    "history = model.fit(\n",
    "    X_train,\n",
    "    y_train,\n",
    "    epochs=30,\n",
    "    batch_size=784,\n",
    "    validation_data=(x_val, y_val)\n",
    ")"
   ]
  },
  {
   "cell_type": "code",
   "execution_count": 68,
   "metadata": {},
   "outputs": [
    {
     "name": "stdout",
     "output_type": "stream",
     "text": [
      "313/313 [==============================] - 1s 3ms/step - loss: 0.3246 - accuracy: 0.8862\n"
     ]
    }
   ],
   "source": [
    "test_loss, test_acc = model.evaluate(X_test, y_test)"
   ]
  }
 ],
 "metadata": {
  "kernelspec": {
   "display_name": ".venv",
   "language": "python",
   "name": "python3"
  },
  "language_info": {
   "codemirror_mode": {
    "name": "ipython",
    "version": 3
   },
   "file_extension": ".py",
   "mimetype": "text/x-python",
   "name": "python",
   "nbconvert_exporter": "python",
   "pygments_lexer": "ipython3",
   "version": "3.10.6"
  },
  "orig_nbformat": 4
 },
 "nbformat": 4,
 "nbformat_minor": 2
}
