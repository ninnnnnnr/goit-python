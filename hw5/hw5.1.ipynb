{
 "cells": [
  {
   "attachments": {},
   "cell_type": "markdown",
   "metadata": {},
   "source": [
    "Домашнє завдання модуля 5\n",
    "\n",
    "    Перша частина#\n",
    "        Для прямокутної області площею 1000 м2, що примикає до прямої ділянки річки, необхідно побудувати огорожу (причому, зі сторони річки огорожу будувати не потрібно). За яких розмірів області a, b довжина огорожі буде мінімальною? Використовуйте функцію minimize з параметрами обмеженнями bounds і constraints\n",
    "\n"
   ]
  },
  {
   "cell_type": "code",
   "execution_count": 7,
   "metadata": {},
   "outputs": [],
   "source": [
    "from scipy.optimize import minimize\n",
    "import numpy as np"
   ]
  },
  {
   "cell_type": "code",
   "execution_count": 29,
   "metadata": {},
   "outputs": [],
   "source": [
    "abounds = (1, 1000)\n",
    "bbounds = (1, 1000)\n",
    "bounds = (abounds, bbounds)\n",
    "\n",
    "min_length = minimize(lambda x: 1000/x + x*2, 0.1, method='cobyla', bounds=bounds)\n",
    "b = min_length.x[0]\n",
    "a = 1000/b"
   ]
  },
  {
   "cell_type": "code",
   "execution_count": 30,
   "metadata": {},
   "outputs": [
    {
     "name": "stdout",
     "output_type": "stream",
     "text": [
      "Довжина огорожі буде мінімальною - 89.443 м,\n",
      "при a=44.722 м, b=22.361 м.\n"
     ]
    }
   ],
   "source": [
    "print(f'Довжина огорожі буде мінімальною - {min_length.fun:.3f} м,\\n' \n",
    "      f'при a={a:.3f} м, b={b:.3f} м.')"
   ]
  },
  {
   "cell_type": "code",
   "execution_count": null,
   "metadata": {},
   "outputs": [],
   "source": []
  }
 ],
 "metadata": {
  "kernelspec": {
   "display_name": "venv",
   "language": "python",
   "name": "python3"
  },
  "language_info": {
   "codemirror_mode": {
    "name": "ipython",
    "version": 3
   },
   "file_extension": ".py",
   "mimetype": "text/x-python",
   "name": "python",
   "nbconvert_exporter": "python",
   "pygments_lexer": "ipython3",
   "version": "3.10.6"
  },
  "orig_nbformat": 4
 },
 "nbformat": 4,
 "nbformat_minor": 2
}
